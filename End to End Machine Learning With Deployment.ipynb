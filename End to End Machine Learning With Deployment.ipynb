{
 "cells": [
  {
   "cell_type": "markdown",
   "id": "682c94b9",
   "metadata": {},
   "source": [
    "# End to End Machine Learning with Deployment"
   ]
  },
  {
   "cell_type": "markdown",
   "id": "83707d0c",
   "metadata": {},
   "source": [
    "### Part1- EDA of Medical Dataset \n",
    "1. Import the libraries\n",
    "2. Load the data and view it\n",
    "3. Clean the data \n",
    "4. Perform EDA \n",
    "\n",
    "### Part2- Modelling of Dataset \n",
    "5. Preprocessing\n",
    "6. Fitting and Evaluation\n",
    "7. Optimization\n",
    "8. Interpretation\n",
    "9. Model Deploytment"
   ]
  },
  {
   "cell_type": "code",
   "execution_count": 2,
   "id": "1a3a7f38",
   "metadata": {},
   "outputs": [],
   "source": [
    "!pip install xgboost --quiet"
   ]
  },
  {
   "cell_type": "code",
   "execution_count": 3,
   "id": "b3beb73e",
   "metadata": {},
   "outputs": [],
   "source": [
    "!pip install streamlit --quiet\n"
   ]
  },
  {
   "cell_type": "code",
   "execution_count": 4,
   "id": "4b45b4c6",
   "metadata": {},
   "outputs": [],
   "source": [
    "!pip install imbalanced-learn --quiet"
   ]
  },
  {
   "cell_type": "code",
   "execution_count": 5,
   "id": "c844abd9",
   "metadata": {},
   "outputs": [],
   "source": [
    "!pip install xgboost --quiet"
   ]
  },
  {
   "cell_type": "code",
   "execution_count": 8,
   "id": "47b7f242",
   "metadata": {},
   "outputs": [
    {
     "name": "stderr",
     "output_type": "stream",
     "text": [
      "ERROR: Could not install packages due to an OSError: [WinError 5] Access is denied: 'C:\\\\Users\\\\praj\\\\anaconda4\\\\envs\\\\demo\\\\Lib\\\\site-packages\\\\~klearn\\\\decomposition\\\\_cdnmf_fast.cp38-win_amd64.pyd'\n",
      "Consider using the `--user` option or check the permissions.\n",
      "\n"
     ]
    },
    {
     "name": "stdout",
     "output_type": "stream",
     "text": [
      "Requirement already satisfied: scikit-learn in c:\\users\\praj\\anaconda4\\envs\\demo\\lib\\site-packages (1.0.2)\n",
      "Collecting scikit-learn\n",
      "  Downloading scikit_learn-1.2.2-cp38-cp38-win_amd64.whl (8.3 MB)\n",
      "     ---------------------------------------- 8.3/8.3 MB 2.8 MB/s eta 0:00:00\n",
      "Requirement already satisfied: numpy>=1.17.3 in c:\\users\\praj\\anaconda4\\envs\\demo\\lib\\site-packages (from scikit-learn) (1.21.5)\n",
      "Requirement already satisfied: threadpoolctl>=2.0.0 in c:\\users\\praj\\anaconda4\\envs\\demo\\lib\\site-packages (from scikit-learn) (2.2.0)\n",
      "Requirement already satisfied: joblib>=1.1.1 in c:\\users\\praj\\anaconda4\\envs\\demo\\lib\\site-packages (from scikit-learn) (1.2.0)\n",
      "Requirement already satisfied: scipy>=1.3.2 in c:\\users\\praj\\anaconda4\\envs\\demo\\lib\\site-packages (from scikit-learn) (1.9.1)\n",
      "Installing collected packages: scikit-learn\n",
      "  Attempting uninstall: scikit-learn\n",
      "    Found existing installation: scikit-learn 1.0.2\n",
      "    Uninstalling scikit-learn-1.0.2:\n",
      "      Successfully uninstalled scikit-learn-1.0.2\n",
      "Requirement already satisfied: scikit-learn in c:\\users\\praj\\anaconda4\\envs\\demo\\lib\\site-packages (1.2.2)\n",
      "Requirement already satisfied: threadpoolctl>=2.0.0 in c:\\users\\praj\\anaconda4\\envs\\demo\\lib\\site-packages (from scikit-learn) (2.2.0)\n",
      "Requirement already satisfied: scipy>=1.3.2 in c:\\users\\praj\\anaconda4\\envs\\demo\\lib\\site-packages (from scikit-learn) (1.9.1)\n",
      "Requirement already satisfied: numpy>=1.17.3 in c:\\users\\praj\\anaconda4\\envs\\demo\\lib\\site-packages (from scikit-learn) (1.21.5)\n",
      "Requirement already satisfied: joblib>=1.1.1 in c:\\users\\praj\\anaconda4\\envs\\demo\\lib\\site-packages (from scikit-learn) (1.2.0)\n"
     ]
    }
   ],
   "source": [
    "!pip install scikit-learn\n"
   ]
  },
  {
   "cell_type": "markdown",
   "id": "15cbcf33",
   "metadata": {},
   "source": [
    "### Step1: Import the libraries\n"
   ]
  },
  {
   "cell_type": "code",
   "execution_count": 20,
   "id": "65967f33",
   "metadata": {},
   "outputs": [
    {
     "ename": "AttributeError",
     "evalue": "module 'matplotlib._api' has no attribute 'define_aliases'",
     "output_type": "error",
     "traceback": [
      "\u001b[1;31m---------------------------------------------------------------------------\u001b[0m",
      "\u001b[1;31mAttributeError\u001b[0m                            Traceback (most recent call last)",
      "\u001b[1;32m~\\AppData\\Local\\Temp\\ipykernel_13328\\1366596123.py\u001b[0m in \u001b[0;36m<module>\u001b[1;34m\u001b[0m\n\u001b[0;32m      1\u001b[0m \u001b[1;32mimport\u001b[0m \u001b[0mnumpy\u001b[0m \u001b[1;32mas\u001b[0m \u001b[0mnp\u001b[0m\u001b[1;33m\u001b[0m\u001b[1;33m\u001b[0m\u001b[0m\n\u001b[0;32m      2\u001b[0m \u001b[1;32mimport\u001b[0m \u001b[0mpandas\u001b[0m \u001b[1;32mas\u001b[0m \u001b[0mpd\u001b[0m\u001b[1;33m\u001b[0m\u001b[1;33m\u001b[0m\u001b[0m\n\u001b[1;32m----> 3\u001b[1;33m \u001b[1;32mimport\u001b[0m \u001b[0mmatplotlib\u001b[0m\u001b[1;33m.\u001b[0m\u001b[0mpyplot\u001b[0m \u001b[1;32mas\u001b[0m \u001b[0mplt\u001b[0m\u001b[1;33m\u001b[0m\u001b[1;33m\u001b[0m\u001b[0m\n\u001b[0m\u001b[0;32m      4\u001b[0m \u001b[1;32mimport\u001b[0m \u001b[0mseaborn\u001b[0m \u001b[1;32mas\u001b[0m \u001b[0msns\u001b[0m\u001b[1;33m\u001b[0m\u001b[1;33m\u001b[0m\u001b[0m\n\u001b[0;32m      5\u001b[0m \u001b[1;32mimport\u001b[0m \u001b[0mwarnings\u001b[0m\u001b[1;33m\u001b[0m\u001b[1;33m\u001b[0m\u001b[0m\n",
      "\u001b[1;32m~\\anaconda4\\envs\\demo\\lib\\site-packages\\matplotlib\\pyplot.py\u001b[0m in \u001b[0;36m<module>\u001b[1;34m\u001b[0m\n\u001b[0;32m     50\u001b[0m \u001b[1;32mfrom\u001b[0m \u001b[0mcycler\u001b[0m \u001b[1;32mimport\u001b[0m \u001b[0mcycler\u001b[0m\u001b[1;33m\u001b[0m\u001b[1;33m\u001b[0m\u001b[0m\n\u001b[0;32m     51\u001b[0m \u001b[1;32mimport\u001b[0m \u001b[0mmatplotlib\u001b[0m\u001b[1;33m\u001b[0m\u001b[1;33m\u001b[0m\u001b[0m\n\u001b[1;32m---> 52\u001b[1;33m \u001b[1;32mimport\u001b[0m \u001b[0mmatplotlib\u001b[0m\u001b[1;33m.\u001b[0m\u001b[0mcolorbar\u001b[0m\u001b[1;33m\u001b[0m\u001b[1;33m\u001b[0m\u001b[0m\n\u001b[0m\u001b[0;32m     53\u001b[0m \u001b[1;32mimport\u001b[0m \u001b[0mmatplotlib\u001b[0m\u001b[1;33m.\u001b[0m\u001b[0mimage\u001b[0m\u001b[1;33m\u001b[0m\u001b[1;33m\u001b[0m\u001b[0m\n\u001b[0;32m     54\u001b[0m \u001b[1;32mfrom\u001b[0m \u001b[0mmatplotlib\u001b[0m \u001b[1;32mimport\u001b[0m \u001b[0m_api\u001b[0m\u001b[1;33m\u001b[0m\u001b[1;33m\u001b[0m\u001b[0m\n",
      "\u001b[1;32m~\\anaconda4\\envs\\demo\\lib\\site-packages\\matplotlib\\colorbar.py\u001b[0m in \u001b[0;36m<module>\u001b[1;34m\u001b[0m\n\u001b[0;32m     17\u001b[0m \u001b[1;33m\u001b[0m\u001b[0m\n\u001b[0;32m     18\u001b[0m \u001b[1;32mimport\u001b[0m \u001b[0mmatplotlib\u001b[0m \u001b[1;32mas\u001b[0m \u001b[0mmpl\u001b[0m\u001b[1;33m\u001b[0m\u001b[1;33m\u001b[0m\u001b[0m\n\u001b[1;32m---> 19\u001b[1;33m \u001b[1;32mfrom\u001b[0m \u001b[0mmatplotlib\u001b[0m \u001b[1;32mimport\u001b[0m \u001b[0m_api\u001b[0m\u001b[1;33m,\u001b[0m \u001b[0mcbook\u001b[0m\u001b[1;33m,\u001b[0m \u001b[0mcollections\u001b[0m\u001b[1;33m,\u001b[0m \u001b[0mcm\u001b[0m\u001b[1;33m,\u001b[0m \u001b[0mcolors\u001b[0m\u001b[1;33m,\u001b[0m \u001b[0mcontour\u001b[0m\u001b[1;33m,\u001b[0m \u001b[0mticker\u001b[0m\u001b[1;33m\u001b[0m\u001b[1;33m\u001b[0m\u001b[0m\n\u001b[0m\u001b[0;32m     20\u001b[0m \u001b[1;32mimport\u001b[0m \u001b[0mmatplotlib\u001b[0m\u001b[1;33m.\u001b[0m\u001b[0martist\u001b[0m \u001b[1;32mas\u001b[0m \u001b[0mmartist\u001b[0m\u001b[1;33m\u001b[0m\u001b[1;33m\u001b[0m\u001b[0m\n\u001b[0;32m     21\u001b[0m \u001b[1;32mimport\u001b[0m \u001b[0mmatplotlib\u001b[0m\u001b[1;33m.\u001b[0m\u001b[0mpatches\u001b[0m \u001b[1;32mas\u001b[0m \u001b[0mmpatches\u001b[0m\u001b[1;33m\u001b[0m\u001b[1;33m\u001b[0m\u001b[0m\n",
      "\u001b[1;32m~\\anaconda4\\envs\\demo\\lib\\site-packages\\matplotlib\\contour.py\u001b[0m in \u001b[0;36m<module>\u001b[1;34m\u001b[0m\n\u001b[0;32m     12\u001b[0m \u001b[1;32mfrom\u001b[0m \u001b[0mmatplotlib\u001b[0m \u001b[1;32mimport\u001b[0m \u001b[0m_api\u001b[0m\u001b[1;33m,\u001b[0m \u001b[0m_docstring\u001b[0m\u001b[1;33m\u001b[0m\u001b[1;33m\u001b[0m\u001b[0m\n\u001b[0;32m     13\u001b[0m \u001b[1;32mfrom\u001b[0m \u001b[0mmatplotlib\u001b[0m\u001b[1;33m.\u001b[0m\u001b[0mbackend_bases\u001b[0m \u001b[1;32mimport\u001b[0m \u001b[0mMouseButton\u001b[0m\u001b[1;33m\u001b[0m\u001b[1;33m\u001b[0m\u001b[0m\n\u001b[1;32m---> 14\u001b[1;33m \u001b[1;32mfrom\u001b[0m \u001b[0mmatplotlib\u001b[0m\u001b[1;33m.\u001b[0m\u001b[0mtext\u001b[0m \u001b[1;32mimport\u001b[0m \u001b[0mText\u001b[0m\u001b[1;33m\u001b[0m\u001b[1;33m\u001b[0m\u001b[0m\n\u001b[0m\u001b[0;32m     15\u001b[0m \u001b[1;32mimport\u001b[0m \u001b[0mmatplotlib\u001b[0m\u001b[1;33m.\u001b[0m\u001b[0mpath\u001b[0m \u001b[1;32mas\u001b[0m \u001b[0mmpath\u001b[0m\u001b[1;33m\u001b[0m\u001b[1;33m\u001b[0m\u001b[0m\n\u001b[0;32m     16\u001b[0m \u001b[1;32mimport\u001b[0m \u001b[0mmatplotlib\u001b[0m\u001b[1;33m.\u001b[0m\u001b[0mticker\u001b[0m \u001b[1;32mas\u001b[0m \u001b[0mticker\u001b[0m\u001b[1;33m\u001b[0m\u001b[1;33m\u001b[0m\u001b[0m\n",
      "\u001b[1;32m~\\anaconda4\\envs\\demo\\lib\\site-packages\\matplotlib\\text.py\u001b[0m in \u001b[0;36m<module>\u001b[1;34m\u001b[0m\n\u001b[0;32m    107\u001b[0m \u001b[1;33m\u001b[0m\u001b[0m\n\u001b[0;32m    108\u001b[0m \u001b[1;33m@\u001b[0m\u001b[0m_docstring\u001b[0m\u001b[1;33m.\u001b[0m\u001b[0minterpd\u001b[0m\u001b[1;33m\u001b[0m\u001b[1;33m\u001b[0m\u001b[0m\n\u001b[1;32m--> 109\u001b[1;33m @_api.define_aliases({\n\u001b[0m\u001b[0;32m    110\u001b[0m     \u001b[1;34m\"color\"\u001b[0m\u001b[1;33m:\u001b[0m \u001b[1;33m[\u001b[0m\u001b[1;34m\"c\"\u001b[0m\u001b[1;33m]\u001b[0m\u001b[1;33m,\u001b[0m\u001b[1;33m\u001b[0m\u001b[1;33m\u001b[0m\u001b[0m\n\u001b[0;32m    111\u001b[0m     \u001b[1;34m\"fontfamily\"\u001b[0m\u001b[1;33m:\u001b[0m \u001b[1;33m[\u001b[0m\u001b[1;34m\"family\"\u001b[0m\u001b[1;33m]\u001b[0m\u001b[1;33m,\u001b[0m\u001b[1;33m\u001b[0m\u001b[1;33m\u001b[0m\u001b[0m\n",
      "\u001b[1;31mAttributeError\u001b[0m: module 'matplotlib._api' has no attribute 'define_aliases'"
     ]
    }
   ],
   "source": [
    "import numpy as np\n",
    "import pandas as pd\n",
    "import matplotlib.pyplot as plt\n",
    "import seaborn as sns \n",
    "import warnings\n",
    "plt.style.use('fivethirtyeight')\n",
    "warnings.filterwarnings(\"ignore\")\n",
    "\n",
    "# libraries for preprocessing \n",
    "from sklearn.model_selection import train_test_split, GridSearchCV\n",
    "from sklearn.preprocessing import StandardScaler\n",
    "from imblearn.over_sampling import SMOTE\n",
    "\n",
    "# libraries for model fitting\n",
    "from sklearn.linear_model import LogisticRegression\n",
    "from sklearn.naive_bayes import GaussianNB\n",
    "from sklearn.neighbors import KNeighborsClassifier\n",
    "from sklearn.tree import DecisionTreeClassifier\n",
    "from sklearn.ensemble import RandomForestClassifier, AdaBoostClassifier, GradientBoostingClassifier\n",
    "from xgboost import XGBClassifier\n",
    "from sklearn.svm import SVC\n",
    "\n",
    "# libraries for model evaluation\n",
    "from sklearn.metrics import accuracy_score, recall_score, precision_score, f1_score, roc_auc_score\n",
    "from sklearn.metrics import confusion_matrix, classification_report\n",
    "from sklearn.metrics import plot_confusion_matrix, plot_roc_curve, plot_precision_recall_curve\n",
    "\n",
    "print(\"All libraries are imported\")"
   ]
  },
  {
   "cell_type": "code",
   "execution_count": null,
   "id": "97438893",
   "metadata": {},
   "outputs": [],
   "source": [
    "pip uninstall matplotlib"
   ]
  },
  {
   "cell_type": "code",
   "execution_count": null,
   "id": "db7e6a81",
   "metadata": {},
   "outputs": [],
   "source": [
    "pip install matplotlib"
   ]
  },
  {
   "cell_type": "markdown",
   "id": "dfec7be7",
   "metadata": {},
   "source": [
    "### Step2:Load the data and view it"
   ]
  },
  {
   "cell_type": "code",
   "execution_count": null,
   "id": "2f2843cf",
   "metadata": {
    "scrolled": true
   },
   "outputs": [],
   "source": [
    "data=pd.read_csv(\"data.csv\")\n",
    "data.head(10)"
   ]
  },
  {
   "cell_type": "code",
   "execution_count": null,
   "id": "b4fe3b59",
   "metadata": {},
   "outputs": [],
   "source": [
    "data.shape"
   ]
  },
  {
   "cell_type": "code",
   "execution_count": null,
   "id": "e386c433",
   "metadata": {},
   "outputs": [],
   "source": [
    "data.info()"
   ]
  },
  {
   "cell_type": "code",
   "execution_count": null,
   "id": "c88475b9",
   "metadata": {},
   "outputs": [],
   "source": [
    "data.describe().T"
   ]
  },
  {
   "cell_type": "code",
   "execution_count": null,
   "id": "1eac27f6",
   "metadata": {},
   "outputs": [],
   "source": [
    "data[~data.applymap(np.isreal).any(1)]"
   ]
  },
  {
   "cell_type": "markdown",
   "id": "1553439f",
   "metadata": {},
   "source": [
    "**Observations**\n",
    "1. The dataset has 768 rows and 10 columns\n",
    "2. The column 'Unnamed: 0' is redundant\n",
    "3. There are no nulls \n",
    "4. However there are 0's present as null which we have to take care of\n",
    "5. There are no corrupt characters"
   ]
  },
  {
   "cell_type": "markdown",
   "id": "1dc012f7",
   "metadata": {},
   "source": [
    "### Step3: Clean the data "
   ]
  },
  {
   "cell_type": "code",
   "execution_count": null,
   "id": "e88c7e8d",
   "metadata": {},
   "outputs": [],
   "source": [
    "data.drop('Unnamed: 0', axis=1, inplace=True)"
   ]
  },
  {
   "cell_type": "code",
   "execution_count": null,
   "id": "82ccfa01",
   "metadata": {},
   "outputs": [],
   "source": [
    "zerofiller=lambda x:x.replace(0, x.median())\n",
    "cols=data.columns[1:6]\n",
    "data[cols]=data[cols].apply(zerofiller, 0)"
   ]
  },
  {
   "cell_type": "code",
   "execution_count": null,
   "id": "a9fac631",
   "metadata": {},
   "outputs": [],
   "source": [
    "# encode the categorical outcome variable\n",
    "df=data.copy()\n",
    "d={\"Yes\":1, 'No':0}\n",
    "df['Outcome']=df['Outcome'].map(d)"
   ]
  },
  {
   "cell_type": "code",
   "execution_count": null,
   "id": "7b4093bc",
   "metadata": {},
   "outputs": [],
   "source": [
    "df.head(2)"
   ]
  },
  {
   "cell_type": "markdown",
   "id": "7c6840f9",
   "metadata": {},
   "source": [
    "### Step4: Perform EDA \n",
    "1. Univariates- NUmerical\n",
    "2. UNivariates- Categorical\n",
    "3. BUvariate - Categorical vs Numerical\n",
    "4. Bivariate - Numerical vs Numerical \n",
    "5. MUltivaraite Pairplot\n",
    "6. Correlations and Heatmpap\n",
    "7. Outcome is a binary categorical variable\n"
   ]
  },
  {
   "cell_type": "code",
   "execution_count": null,
   "id": "96e5ab83",
   "metadata": {},
   "outputs": [],
   "source": [
    "def histograms(df):\n",
    "    df.hist()\n",
    "    plt.tight_layout()\n",
    "    plt.show()"
   ]
  },
  {
   "cell_type": "code",
   "execution_count": null,
   "id": "68f572f2",
   "metadata": {},
   "outputs": [],
   "source": [
    "histograms(df)"
   ]
  },
  {
   "cell_type": "code",
   "execution_count": null,
   "id": "f5ef007a",
   "metadata": {},
   "outputs": [],
   "source": [
    "def barplot(data, feature):\n",
    "    print(\"Bar plot of the variable \", feature)\n",
    "    plt.figure(figsize=(10,7))\n",
    "    ax=sns.countplot(data=data, x=feature, color='green')\n",
    "    for p in ax.patches:\n",
    "        x=p.get_bbox().get_points()[:,0]\n",
    "        y=p.get_bbox().get_points()[1,1]\n",
    "        ax.annotate(\"{:.2g}%\".format(100.*y/len(df)), (x.mean(), y), ha='center', va='bottom')\n",
    "    plt.show()"
   ]
  },
  {
   "cell_type": "code",
   "execution_count": null,
   "id": "97d7cd2f",
   "metadata": {},
   "outputs": [],
   "source": [
    "barplot(df, 'Outcome')"
   ]
  },
  {
   "cell_type": "code",
   "execution_count": null,
   "id": "591f3973",
   "metadata": {},
   "outputs": [],
   "source": [
    "def boxplot_histplot(data, feature, bins=None, figsize=(12,7)):\n",
    "    print('Boxplot and Histplot for ', feature)\n",
    "    fig, (ax_box, ax_hist)=plt.subplots(\n",
    "    nrows=2,\n",
    "    sharex=True,\n",
    "    gridspec_kw = {\"height_ratios\":(0.25, 0.75)},\n",
    "    figsize=figsize\n",
    "    )\n",
    "    sns.boxplot(data=data, x=feature, color='violet', ax=ax_box, showmeans=True)\n",
    "    sns.histplotplot(data=data, x=feature, ax=ax_hist, bins=bins)   if bins else sns.histplot(data\\\n",
    "                            =data, x=feature, ax=ax_hist)  \n",
    "    ax_hist.axvline(data[feature].mean(), color='green', linestyle='--')\n",
    "    ax_hist.axvline(data[feature].median(), color='black', linestyle='-')\n",
    "    plt.show()\n",
    "    "
   ]
  },
  {
   "cell_type": "code",
   "execution_count": null,
   "id": "a3631e35",
   "metadata": {},
   "outputs": [],
   "source": [
    "for col in df.select_dtypes(exclude='O').columns:\n",
    "    boxplot_histplot(df, col)"
   ]
  },
  {
   "cell_type": "markdown",
   "id": "180424ff",
   "metadata": {},
   "source": [
    "**Observations**\n",
    "1. We see that Pregnancies, Insulin, Dpf and Age are huighly right skewed\n",
    "2. Wee see that Outcome is highly imbalanced\n",
    "3. We see that skin thickness, insulin and Dpf have very high amount of outliers "
   ]
  },
  {
   "cell_type": "markdown",
   "id": "b20bb579",
   "metadata": {},
   "source": [
    "**Bivariate Analysis**"
   ]
  },
  {
   "cell_type": "code",
   "execution_count": null,
   "id": "6c9aada5",
   "metadata": {},
   "outputs": [],
   "source": [
    "def catnum(data, feature1, feature2):\n",
    "    print(\"The Bivariate barchart between {0} and {1}\".format(feature1, feature2))\n",
    "    data.groupby(feature1)[feature2].mean().plot(kind='bar', color='orange')\n",
    "    plt.show()"
   ]
  },
  {
   "cell_type": "code",
   "execution_count": null,
   "id": "3486387d",
   "metadata": {},
   "outputs": [],
   "source": [
    "for col in df.select_dtypes(exclude='O').columns:\n",
    "    catnum(df,'Outcome' ,col)"
   ]
  },
  {
   "cell_type": "markdown",
   "id": "b618d5c7",
   "metadata": {},
   "source": [
    "**Observation**\n",
    "The graphs show that women with higher no.of pregnancies, hiugher glucose level, higher insulin level , higher dpf and age are more likely tobe diabetic |"
   ]
  },
  {
   "cell_type": "code",
   "execution_count": null,
   "id": "5db900d0",
   "metadata": {},
   "outputs": [],
   "source": [
    "def lineplot_scatterplot(data, feature1, feature2):\n",
    "    plt.figure(figsize=(16,7))\n",
    "    print(\"Bivariates between {0} and {1}\".format(feature1, feature2))\n",
    "    plt.subplot(1,2,1)\n",
    "    sns.lineplot(data=data, x=feature1, y=feature2, color='green')\n",
    "    plt.title('Lineplot')\n",
    "    plt.subplot(1,2,2)\n",
    "    sns.scatterplot(data=data, x=feature1, y=feature2, color='blue')\n",
    "    plt.title('Scatterplot')\n",
    "    plt.show()\n",
    "    "
   ]
  },
  {
   "cell_type": "code",
   "execution_count": null,
   "id": "72ad4236",
   "metadata": {},
   "outputs": [],
   "source": [
    "for col in df.select_dtypes(exclude='O').columns:\n",
    "    lineplot_scatterplot(data=df,feature1='Age', feature2=col)\n",
    "    "
   ]
  },
  {
   "cell_type": "code",
   "execution_count": null,
   "id": "4afe9849",
   "metadata": {},
   "outputs": [],
   "source": [
    "sns.pairplot(df)"
   ]
  },
  {
   "cell_type": "markdown",
   "id": "dbb64703",
   "metadata": {},
   "source": [
    "**Observations**\n",
    "There appears multicollinearity between Glucose and Insulin, BMI and skin thickness"
   ]
  },
  {
   "cell_type": "code",
   "execution_count": null,
   "id": "050d52c4",
   "metadata": {},
   "outputs": [],
   "source": [
    "# Lets look at variables most correlated with Outcome \n",
    "df[df.columns[:]].corr()['Outcome']"
   ]
  },
  {
   "cell_type": "code",
   "execution_count": null,
   "id": "d25fd5f7",
   "metadata": {},
   "outputs": [],
   "source": [
    "plt.figure(figsize=(12,7))\n",
    "sns.heatmap(df.corr(), cmap='Spectral', vmax=+1, vmin=-1, annot=True)"
   ]
  },
  {
   "cell_type": "markdown",
   "id": "877b930a",
   "metadata": {},
   "source": [
    "**Observations**\n",
    "Glucose and BMI are the strongest predictors of Outcome "
   ]
  },
  {
   "cell_type": "markdown",
   "id": "e551e82a",
   "metadata": {},
   "source": [
    "Lets create an app top display these charts "
   ]
  },
  {
   "cell_type": "code",
   "execution_count": null,
   "id": "eb90bbd6",
   "metadata": {},
   "outputs": [],
   "source": [
    "#!pip install streamlit"
   ]
  },
  {
   "cell_type": "code",
   "execution_count": null,
   "id": "3314fb15",
   "metadata": {},
   "outputs": [],
   "source": [
    "%%writefile eda.py\n",
    "import streamlit as st\n",
    "st.title(\"The EDA Page\")\n",
    "import pandas as pd\n",
    "import numpy as np\n",
    "import matplotlib.pyplot as plt\n",
    "import seaborn as sns\n",
    "st.set_option('deprecation.showPyplotGlobalUse', False)\n",
    "plt.style.use('fivethirtyeight')\n",
    "\n",
    "#load and clean the data\n",
    "data=pd.read_csv(\"data/data.csv\")\n",
    "data.drop('Unnamed: 0', axis=1, inplace=True)\n",
    "zerofiller=lambda x:x.replace(0, x.median())\n",
    "cols=data.columns[1:6]\n",
    "data[cols]=data[cols].apply(zerofiller, 0)\n",
    "# encode the categorical outcome variable\n",
    "df=data.copy()\n",
    "d={\"Yes\":1, 'No':0}\n",
    "df['Outcome']=df['Outcome'].map(d)\n",
    "def view_data(data):\n",
    "    st.write(df.head(10))\n",
    "    st.pyplot()\n",
    "\n",
    "def histograms(df):\n",
    "    df.hist()\n",
    "    plt.tight_layout()\n",
    "    st.pyplot()\n",
    "    \n",
    "def barplot(data, feature):\n",
    "    print(\"Bar plot of the variable \", feature)\n",
    "    plt.figure(figsize=(10,7))\n",
    "    ax=sns.countplot(data=data, x=feature, color='green')\n",
    "    for p in ax.patches:\n",
    "        x=p.get_bbox().get_points()[:,0]\n",
    "        y=p.get_bbox().get_points()[1,1]\n",
    "        ax.annotate(\"{:.2g}%\".format(100.*y/len(df)), (x.mean(), y), ha='center', va='bottom')\n",
    "    st.pyplot()\n",
    "    \n",
    "def boxplot_histplot(data, feature, bins=None, figsize=(12,7)):\n",
    "    print('Boxplot and Histplot for ', feature)\n",
    "    fig, (ax_box, ax_hist)=plt.subplots(\n",
    "    nrows=2,\n",
    "    sharex=True,\n",
    "    gridspec_kw = {\"height_ratios\":(0.25, 0.75)},\n",
    "    figsize=figsize\n",
    "    )\n",
    "    sns.boxplot(data=data, x=feature, color='violet', ax=ax_box, showmeans=True)\n",
    "    sns.histplotplot(data=data, x=feature, ax=ax_hist, bins=bins)   if bins else sns.histplot(data\\\n",
    "                            =data, x=feature, ax=ax_hist)  \n",
    "    ax_hist.axvline(data[feature].mean(), color='green', linestyle='--')\n",
    "    ax_hist.axvline(data[feature].median(), color='black', linestyle='-')\n",
    "    st.pyplot()\n",
    "    \n",
    "st.sidebar.subheader(\"Choose the Plot\")\n",
    "plot=st.sidebar.selectbox('plot', ('Data', 'Histograms', 'Barchart', 'Boxplot_Scatterplot', 'Correlations'))\n",
    "\n",
    "if st.sidebar.button('PLOT'):\n",
    "    if plot=='Data':\n",
    "        view_data(df)\n",
    "    if plot=='Histograms':\n",
    "        histograms(df)\n",
    "    if plot=='Barchart':\n",
    "        barplot(df, feature='Outcome')\n",
    "    if plot=='Boxplot_Scatterplot':\n",
    "        for col in df.select_dtypes(exclude='O').columns:\n",
    "            boxplot_histplot(df, col)\n",
    "    if plot=='Correlations':\n",
    "        plt.figure(figsize=(12,7))\n",
    "        sns.heatmap(df.corr(), cmap='Spectral', vmax=+1, vmin=-1, annot=True)\n",
    "        st.pyplot()\n",
    "        \n",
    "        \n",
    "        \n",
    "        "
   ]
  },
  {
   "cell_type": "code",
   "execution_count": null,
   "id": "eef77deb",
   "metadata": {},
   "outputs": [],
   "source": []
  },
  {
   "cell_type": "code",
   "execution_count": null,
   "id": "777e8054",
   "metadata": {},
   "outputs": [],
   "source": [
    "# Create fn to do perprocessing\n",
    "def preprocess(data,label):\n",
    "    X=df.drop(label,axis=1)\n",
    "    y=df[label]\n",
    "    # solve the imbalance\n",
    "    sm=SMOTE()\n",
    "    X,y=sm.fit_resample(X,y)\n",
    "    # train test split\n",
    "    x_train,x_test,y_train,y_test=train_test_split(X,y,test_size=0.3,random_state=42)\n",
    "    return x_train,x_test,y_train,y_test"
   ]
  },
  {
   "cell_type": "code",
   "execution_count": null,
   "id": "a015b9e8",
   "metadata": {},
   "outputs": [],
   "source": [
    "x_train,x_test,y_train,y_test=preprocess(df,'Outcome')"
   ]
  },
  {
   "cell_type": "code",
   "execution_count": null,
   "id": "8ed41c49",
   "metadata": {},
   "outputs": [],
   "source": [
    "# scale the features\n",
    "sc=StandardScaler()\n",
    "x_train=sc.fit_transform(x_train)\n",
    "x_test=sc.transform(x_test)"
   ]
  },
  {
   "cell_type": "code",
   "execution_count": null,
   "id": "dd30397a",
   "metadata": {},
   "outputs": [],
   "source": [
    "print(x_train.shape,x_test.shape,y_train.shape,y_test.shape)"
   ]
  },
  {
   "cell_type": "code",
   "execution_count": null,
   "id": "52a4ca69",
   "metadata": {},
   "outputs": [],
   "source": [
    "# The data is ready for modelling"
   ]
  },
  {
   "cell_type": "markdown",
   "id": "ee57962a",
   "metadata": {},
   "source": [
    "### Step 6: Fit and Evaluate the model"
   ]
  },
  {
   "cell_type": "code",
   "execution_count": null,
   "id": "793b455e",
   "metadata": {},
   "outputs": [],
   "source": [
    "def print_metrics(y_test,y_pred,model_name):\n",
    "    print('Metrics for the model',model_name)\n",
    "    print('')\n",
    "    print('Accuracy Score=',accuracy_score(y_test,y_pred))\n",
    "    print('')\n",
    "    print('Recall Score=',recall_score(y_test,y_pred))\n",
    "    print('')\n",
    "    print('f1 Score=',f1_score(y_test,y_pred))\n",
    "    print('')\n",
    "    print('Roc Score=',roc_auc_score(y_test,y_pred))\n",
    "    print('Classification Report')\n",
    "    print(classification_report(y_test,y_pred))"
   ]
  },
  {
   "cell_type": "code",
   "execution_count": null,
   "id": "977821a1",
   "metadata": {},
   "outputs": [],
   "source": [
    "def plot_metrics(clf,x_test,y_test,model_name):\n",
    "    print('Metrics for the model')\n",
    "    plot_confusion_matrix(clf,x_test,y_test,display_label[0,1])\n",
    "    print('')\n",
    "    plot_roc_curve(clf,x_test,y_test)\n",
    "    print('')\n",
    "    plot_precision_recall_curve(clf,x_test,y_test)"
   ]
  },
  {
   "cell_type": "code",
   "execution_count": null,
   "id": "0d36ac92",
   "metadata": {},
   "outputs": [],
   "source": [
    "# fit and evcaluate the model\n",
    "knn=KNeighborsClassifier()\n",
    "knn.fit(x_train,y_train)"
   ]
  },
  {
   "cell_type": "code",
   "execution_count": null,
   "id": "54a5c1a8",
   "metadata": {},
   "outputs": [],
   "source": [
    "y_pred=knn.predict(x_test)"
   ]
  },
  {
   "cell_type": "code",
   "execution_count": null,
   "id": "6004b44c",
   "metadata": {},
   "outputs": [],
   "source": [
    "print_metrics(y_test,y_pred,knn)"
   ]
  },
  {
   "cell_type": "code",
   "execution_count": null,
   "id": "32553821",
   "metadata": {},
   "outputs": [],
   "source": [
    "plot_metrics(knn,x_test,y_test,'KNN')"
   ]
  },
  {
   "cell_type": "code",
   "execution_count": null,
   "id": "7f21cfdd",
   "metadata": {},
   "outputs": [],
   "source": [
    "# Lets tune hyperparameter of knn\n",
    "\n",
    "\n",
    "neighbors = np.arange(1,12)\n",
    "train_accuracy = np.empty(len(neighbors))\n",
    "test_accuracy = np.empty(len(neighbors))\n",
    "\n",
    "for i,k in enumerate(neighbors):\n",
    "    knn = KNeighborsClassifier(n_neighbors = k)\n",
    "    knn.fit(x_train , y_train)\n",
    "    train_accuracy[i] = knn.score(x_train , y_train)\n",
    "    test_accuracy[i] = knn.score(x_test , y_test)\n",
    "\n",
    "#plot the model complexity curve\n",
    "plt.title('Model Complexity Curves')\n",
    "plt.plot(neighbors , train_accuracy , label = 'Train Accuracy')\n",
    "plt.plot(neighbors , test_accuracy , label = 'Test Accuracy')\n",
    "plt.legend()\n",
    "plt.xlabel('Number of Neighbors')\n",
    "plt.ylabel('Accuracy')\n",
    "plt.show()"
   ]
  },
  {
   "cell_type": "code",
   "execution_count": null,
   "id": "ff9b2224",
   "metadata": {},
   "outputs": [],
   "source": [
    "#refitting the model with neighnbor = 8\n",
    "\n",
    "knn = KNeighborsClassifier(n_neighbors = 8)\n",
    "knn.fit(x_train , y_train)\n",
    "y_pred = knn.predict(x_test)\n",
    "print_metrics(y_test , y_pred , 'KNN')"
   ]
  },
  {
   "cell_type": "code",
   "execution_count": null,
   "id": "2e251085",
   "metadata": {},
   "outputs": [],
   "source": [
    "#Lets fit all the models as once and decide the one to optimise\n",
    "\n",
    "clfs = {'Logreg' : LogisticRegression(),\n",
    "       'KNN' : KNeighborsClassifier(),\n",
    "       'Naive Bayes' : GaussianNB(),\n",
    "       'Decision Tree' : DecisionTreeClassifier(),\n",
    "       'RandomForest' : RandomForestClassifier(),\n",
    "       'AdaBoost' : AdaBoostClassifier(),\n",
    "       'Gradient Boosting' : GradientBoostingClassifier(),\n",
    "       'XGBoost' : XGBClassifier(),\n",
    "       'SVM' : SVC()}\n",
    "\n",
    "models_report = pd.DataFrame(columns = ['Model','Accuracy','Recall','Precision','F1'])\n",
    "\n",
    "for clf , clf_name in list(zip(clfs.values() , clfs.keys())):\n",
    "    clf.fit(x_train,y_train)\n",
    "    y_pred = clf.predict(x_test)\n",
    "    print('Fitting the Model..........',clf_name)\n",
    "    t=pd.Series({\n",
    "        'Model' : clf_name,\n",
    "        'Accuracy' : accuracy_score(y_test , y_pred),\n",
    "        'Recall' :recall_score(y_test , y_pred),\n",
    "        'Precision' : precision_score(y_test,y_pred),\n",
    "        'F1' : f1_score(y_test , y_pred)\n",
    "    })\n",
    "    models_report = models_report.append(t,ignore_index = True)\n",
    "    \n",
    "models_report = models_report.sort_values(by = 'F1' , ascending = False)\n",
    "models_report\n",
    "\n",
    "\n",
    "\n"
   ]
  },
  {
   "cell_type": "code",
   "execution_count": null,
   "id": "a0131d4b",
   "metadata": {},
   "outputs": [],
   "source": [
    "rfc=RandomForestClassifier()\n",
    "rfc.fit(x_train,y_train)\n",
    "rfc.predict(x_test)\n",
    "print_metrics(y_test,y_pred,'RFC')"
   ]
  },
  {
   "cell_type": "code",
   "execution_count": null,
   "id": "1b1a2241",
   "metadata": {},
   "outputs": [],
   "source": [
    "# Lets optimise the Random Forest\n",
    "params_grid={\n",
    "    'n_estimators':[100,150,200],\n",
    "    'min_samples_leaf':range(1,5,1),\n",
    "    'min_samples_split':range(2,10,2),\n",
    "    'max_depth':[1,2,3,4,5],\n",
    "    'criterion':['gini','entropy'],\n",
    "    'max_features':['sqrt','log2']\n",
    "}\n",
    "\n",
    "\n",
    "n_folds=3\n",
    "\n",
    "cv=GridSearchCV(estimator=rfc,param_grid=params_grid,cv=n_folds,n_jobs=-1,\n",
    "                return_train_score=False,verbose=3)\n",
    "\n",
    "cv.fit(x_train,y_train)"
   ]
  },
  {
   "cell_type": "code",
   "execution_count": null,
   "id": "99c358f7",
   "metadata": {},
   "outputs": [],
   "source": [
    "cv.best_score_"
   ]
  },
  {
   "cell_type": "code",
   "execution_count": null,
   "id": "f709d361",
   "metadata": {},
   "outputs": [],
   "source": [
    "cv.best_estimator_"
   ]
  },
  {
   "cell_type": "code",
   "execution_count": null,
   "id": "d0c437d7",
   "metadata": {},
   "outputs": [],
   "source": [
    "rfc_tuned = RandomForestClassifier(max_depth=5,max_features='log2',min_samples_leaf=4,min_samples_split=8)\n",
    "rfc_tuned.fit(x_train,y_train)\n",
    "y_pred = rfc_tuned.predict(x_test)\n",
    "print_metrics(y_test,y_pred,'RFC Tuned')"
   ]
  },
  {
   "cell_type": "code",
   "execution_count": null,
   "id": "02c82926",
   "metadata": {},
   "outputs": [],
   "source": []
  },
  {
   "cell_type": "code",
   "execution_count": null,
   "id": "3df7e63b",
   "metadata": {},
   "outputs": [],
   "source": []
  },
  {
   "cell_type": "markdown",
   "id": "a8bb83db",
   "metadata": {},
   "source": [
    "# Model Interpretation"
   ]
  },
  {
   "cell_type": "code",
   "execution_count": null,
   "id": "9cf1d132",
   "metadata": {},
   "outputs": [],
   "source": [
    "!pip install shap --quiet"
   ]
  },
  {
   "cell_type": "code",
   "execution_count": null,
   "id": "72b995bd",
   "metadata": {},
   "outputs": [],
   "source": [
    "import shap\n",
    "X=df.drop('Outcome',axis=1)\n",
    "value=shap.TreeExplainer(rfc_tuned).shap_values(x_test)\n",
    "shap.summary_plot(value,x_train,plot_type='bar',feature_names=X.columns)"
   ]
  },
  {
   "cell_type": "code",
   "execution_count": null,
   "id": "c212b12b",
   "metadata": {},
   "outputs": [],
   "source": []
  },
  {
   "cell_type": "markdown",
   "id": "db7fe647",
   "metadata": {},
   "source": [
    "## Create Pipeline for deployment"
   ]
  },
  {
   "cell_type": "code",
   "execution_count": null,
   "id": "fd7f14dc",
   "metadata": {},
   "outputs": [],
   "source": [
    "from sklearn.pipeline import Pipeline"
   ]
  },
  {
   "cell_type": "code",
   "execution_count": null,
   "id": "08f428eb",
   "metadata": {},
   "outputs": [],
   "source": [
    "from sklearn.pipeline import Pipeline\n",
    "sc=StandardScaler()\n",
    "rfc_tuned=rfc_tuned\n",
    "x_train,x_test,y_train, y_test=preprocess(df,'Outcome')\n",
    "steps=[('scaling',sc),('rfc tuned',rfc_tuned)]\n",
    "pipeline=Pipeline(steps)\n",
    "pipeline.fit(x_train,y_train)\n",
    "y_pred=pipeline.predict(x_test)\n",
    "print_metrics(y_test,y_pred,'Pipeline')"
   ]
  },
  {
   "cell_type": "code",
   "execution_count": null,
   "id": "cf25b3b2",
   "metadata": {},
   "outputs": [],
   "source": [
    "# pickle the [pipeline]\n",
    "import pickle"
   ]
  },
  {
   "cell_type": "code",
   "execution_count": null,
   "id": "79d863f2",
   "metadata": {},
   "outputs": [],
   "source": [
    "model=open('rfc.pickle','wb')\n",
    "pickle.dump(pipeline,model)\n",
    "model.close()"
   ]
  },
  {
   "cell_type": "code",
   "execution_count": null,
   "id": "a0abfc92",
   "metadata": {},
   "outputs": [],
   "source": [
    "## Deployment of the pickle model"
   ]
  },
  {
   "cell_type": "code",
   "execution_count": null,
   "id": "5cde6385",
   "metadata": {},
   "outputs": [],
   "source": [
    "%%writefile app.py\n",
    "import streamlit as st\n",
    "import pandas as pd\n",
    "from sklearn.preprocessing import StandardScaler\n",
    "import pickle\n",
    "st.title('Medical Diagnostic App 👨🏽‍⚕️')\n",
    "\n",
    "# step 1: load the model\n",
    "model=open('rfc.pickle','rb')\n",
    "clf=pickle.load(model)\n",
    "model.close()\n",
    "\n",
    "# step 2: Get the front end user input\n",
    "\n",
    "pregs=st.number_input('Pregnancies',1,20,step=1)\n",
    "glucose=st.slider('Glucose',40.0,200.0,40.0)\n",
    "bp=st.slider('BloodPressure',24,122,24)\n",
    "skin=st.slider('SkinThickness',7,99,7)\n",
    "insulin=st.slider('Insulin',18.0,850.0,18.0)\n",
    "bmi=st.slider('BMI',18.0,67.0,18.0)\n",
    "dpf=st.slider('DiabetesPedigreeFunction',0.05,2.5,0.05)\n",
    "age=st.slider('Age',21,81,21)\n",
    "\n",
    "\n",
    "# step 3: Converting User input To model output\n",
    "\n",
    "data={'Pregnancies':pregs,'Glucose':glucose,'BloodPressure':bp,'SkinThickness':skin,\n",
    "     'Insulin':insulin,'BMI':bmi,'DiabetesPedigreeFunction':dpf,'Age':age\n",
    "     }\n",
    "\n",
    "input_data=pd.DataFrame([data])\n",
    "\n",
    "\n",
    "# Step 4: Get the predictions\n",
    "preds=clf.predict(input_data)[0]\n",
    "if st.button('Predict'):\n",
    "    if preds==1:\n",
    "        st.error('The person has Diabetes')\n",
    "    if preds==0:\n",
    "        st.success('The person is Diabetes Free')"
   ]
  },
  {
   "cell_type": "code",
   "execution_count": null,
   "id": "e41bb076",
   "metadata": {},
   "outputs": [],
   "source": []
  },
  {
   "cell_type": "code",
   "execution_count": null,
   "id": "b5a9bf5c",
   "metadata": {},
   "outputs": [],
   "source": []
  },
  {
   "cell_type": "code",
   "execution_count": null,
   "id": "3c6236dc",
   "metadata": {},
   "outputs": [],
   "source": []
  },
  {
   "cell_type": "code",
   "execution_count": null,
   "id": "913116f5",
   "metadata": {},
   "outputs": [],
   "source": []
  }
 ],
 "metadata": {
  "kernelspec": {
   "display_name": "Python 3 (ipykernel)",
   "language": "python",
   "name": "python3"
  },
  "language_info": {
   "codemirror_mode": {
    "name": "ipython",
    "version": 3
   },
   "file_extension": ".py",
   "mimetype": "text/x-python",
   "name": "python",
   "nbconvert_exporter": "python",
   "pygments_lexer": "ipython3",
   "version": "3.8.13"
  }
 },
 "nbformat": 4,
 "nbformat_minor": 5
}
